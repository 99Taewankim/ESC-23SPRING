{
 "cells": [
  {
   "cell_type": "markdown",
   "id": "92b27a46",
   "metadata": {},
   "source": [
    "## Realxed A-optimal experiment design"
   ]
  },
  {
   "cell_type": "markdown",
   "id": "ff473c25",
   "metadata": {},
   "source": [
    "아래와 같이 생성된 데이터가 있습니다."
   ]
  },
  {
   "cell_type": "code",
   "execution_count": 1,
   "id": "14ae9b65",
   "metadata": {},
   "outputs": [],
   "source": [
    "using Random\n",
    "Random.seed!(2023)\n",
    "n = 5; # 추정해야 하는 parameter의 개수\n",
    "p = 20; # 가능한 실험의 가짓수\n",
    "m = 30; # 실험 횟수\n",
    "V = randn(n,p); #V의 각 열은 v1,...,vp 벡터를 나타냅니다."
   ]
  },
  {
   "cell_type": "markdown",
   "id": "7a4be439",
   "metadata": {},
   "source": [
    "Q1. 다음과 같이 표현된 $\\lambda \\in \\mathbb{R}^p$에 대한 optimization 문제를 해결하세요.\n",
    "\n",
    "$$\n",
    "\\begin{array}{ll}\n",
    "    \\text{minimize}   & (1/m)\\mathbf{tr}\\left(\\sum_{i=1}^p \\lambda_i\\nu_i\\nu_i^T\\right)^{-1} \\\\\n",
    "    \\text{subject to} & \\mathbf{1}^T\\lambda =1,\\,\\,\\lambda\\succeq 0\n",
    "\\end{array}\n",
    "$$\n",
    "\n",
    "\n",
    "Q2. 위 문제의 solution $\\lambda^*$는 $m_1,\\,m_2,\\,...\\,,m_p$에 대한 아래 A-optimal design problem의 solution의 lower bound가 됩니다. 그 이유는 무엇일까요? (세션의 relaxed experiment design 부분에서 나왔습니다!)\n",
    "\n",
    "$$\n",
    "\\begin{array}{ll}\n",
    "    \\text{minimize}   & \\mathbf{tr}\\left(\\sum_{i=1}^p m_i\\nu_i\\nu_i^T\\right)^{-1} \\\\\n",
    "    \\text{subject to} & m_1 + m_2 +\\,...\\,+ m_p = m ,\\,\\, m \\in \\left\\{0,1,\\,...\\,,m\\right\\}\n",
    "\\end{array}\n",
    "$$\n",
    "\n",
    "Q3. solution을 구한 후 $\\hat{m}_i = \\mathbf{round}(m\\lambda_i^*)$를 구하세요. 이 정수 $\\hat{m}_i$들에 대한 sub-optimal objective value를 계산하고, 이 upper bound와 lower bound의 차이를 구하세요. "
   ]
  },
  {
   "cell_type": "markdown",
   "id": "86253cc4",
   "metadata": {},
   "source": [
    "#유의사항: Convex 패키지는 trace로 구성된 목적함수를 인식하지 못하므로, matrix fractional function (교재 76p example 3.4 참조)을 이용하여 formulation해줘야 합니다. kth unit vector $e_k$에 대해 reformulation하면 위의 목적함수는 다음과 같이 바뀝니다. 사실 trace를 다른 형태로 표현한 것에 불과하다는 점이 보입니다.\n",
    "\n",
    "$$ (1/m)\\sum_{k=1}^n e_k^T \\left(\\sum_{i=1}^p \\lambda_i\\nu_i\\nu_i^T\\right)^{-1}e_k $$\n",
    "\n",
    "#hint: 벡터 x, 행렬 P에 대해 함수 matrixfrac(x, P)는 $x^TP^{-1}x$를 리턴합니다."
   ]
  },
  {
   "cell_type": "code",
   "execution_count": 3,
   "id": "b34a8211",
   "metadata": {
    "scrolled": true
   },
   "outputs": [
    {
     "name": "stderr",
     "output_type": "stream",
     "text": [
      "\u001b[32m\u001b[1m    Updating\u001b[22m\u001b[39m registry at `C:\\Users\\jsanghoo\\.julia\\registries\\General.toml`\n",
      "\u001b[32m\u001b[1m   Resolving\u001b[22m\u001b[39m package versions...\n",
      "\u001b[32m\u001b[1m   Installed\u001b[22m\u001b[39m CodecBzip2 ─────────── v0.7.2\n",
      "\u001b[32m\u001b[1m   Installed\u001b[22m\u001b[39m Bzip2_jll ──────────── v1.0.8+0\n",
      "\u001b[32m\u001b[1m   Installed\u001b[22m\u001b[39m DiffResults ────────── v1.1.0\n",
      "\u001b[32m\u001b[1m   Installed\u001b[22m\u001b[39m IrrationalConstants ── v0.2.2\n",
      "\u001b[32m\u001b[1m   Installed\u001b[22m\u001b[39m DiffRules ──────────── v1.13.0\n",
      "\u001b[32m\u001b[1m   Installed\u001b[22m\u001b[39m BenchmarkTools ─────── v1.3.2\n",
      "\u001b[32m\u001b[1m   Installed\u001b[22m\u001b[39m SpecialFunctions ───── v2.2.0\n",
      "\u001b[32m\u001b[1m   Installed\u001b[22m\u001b[39m MutableArithmetics ─── v1.2.3\n",
      "\u001b[32m\u001b[1m   Installed\u001b[22m\u001b[39m StaticArrays ───────── v1.5.17\n",
      "\u001b[32m\u001b[1m   Installed\u001b[22m\u001b[39m StaticArraysCore ───── v1.4.0\n",
      "\u001b[32m\u001b[1m   Installed\u001b[22m\u001b[39m NaNMath ────────────── v1.0.2\n",
      "\u001b[32m\u001b[1m   Installed\u001b[22m\u001b[39m OrderedCollections ─── v1.4.1\n",
      "\u001b[32m\u001b[1m   Installed\u001b[22m\u001b[39m AbstractTrees ──────── v0.4.4\n",
      "\u001b[32m\u001b[1m   Installed\u001b[22m\u001b[39m TranscodingStreams ─── v0.9.11\n",
      "\u001b[32m\u001b[1m   Installed\u001b[22m\u001b[39m ChainRulesCore ─────── v1.15.7\n",
      "\u001b[32m\u001b[1m   Installed\u001b[22m\u001b[39m LDLFactorizations ──── v0.10.0\n",
      "\u001b[32m\u001b[1m   Installed\u001b[22m\u001b[39m AMD ────────────────── v0.5.0\n",
      "\u001b[32m\u001b[1m   Installed\u001b[22m\u001b[39m DataStructures ─────── v0.18.13\n",
      "\u001b[32m\u001b[1m   Installed\u001b[22m\u001b[39m CommonSubexpressions ─ v0.3.0\n",
      "\u001b[32m\u001b[1m   Installed\u001b[22m\u001b[39m ForwardDiff ────────── v0.10.35\n",
      "\u001b[32m\u001b[1m   Installed\u001b[22m\u001b[39m LogExpFunctions ────── v0.3.23\n",
      "\u001b[32m\u001b[1m   Installed\u001b[22m\u001b[39m OpenSpecFun_jll ────── v0.5.5+0\n",
      "\u001b[32m\u001b[1m   Installed\u001b[22m\u001b[39m MacroTools ─────────── v0.5.10\n",
      "\u001b[32m\u001b[1m   Installed\u001b[22m\u001b[39m Compat ─────────────── v4.6.1\n",
      "\u001b[32m\u001b[1m   Installed\u001b[22m\u001b[39m Convex ─────────────── v0.15.3\n",
      "\u001b[32m\u001b[1m   Installed\u001b[22m\u001b[39m InverseFunctions ───── v0.1.8\n",
      "\u001b[32m\u001b[1m   Installed\u001b[22m\u001b[39m CodecZlib ──────────── v0.7.1\n",
      "\u001b[32m\u001b[1m   Installed\u001b[22m\u001b[39m ChangesOfVariables ─── v0.1.6\n",
      "\u001b[32m\u001b[1m   Installed\u001b[22m\u001b[39m DocStringExtensions ── v0.9.3\n",
      "\u001b[32m\u001b[1m   Installed\u001b[22m\u001b[39m MathOptInterface ───── v1.13.1\n",
      "\u001b[32m\u001b[1m    Updating\u001b[22m\u001b[39m `C:\\Users\\jsanghoo\\.julia\\environments\\v1.8\\Project.toml`\n",
      " \u001b[90m [f65535da] \u001b[39m\u001b[92m+ Convex v0.15.3\u001b[39m\n",
      "\u001b[32m\u001b[1m    Updating\u001b[22m\u001b[39m `C:\\Users\\jsanghoo\\.julia\\environments\\v1.8\\Manifest.toml`\n",
      " \u001b[90m [14f7f29c] \u001b[39m\u001b[92m+ AMD v0.5.0\u001b[39m\n",
      " \u001b[90m [1520ce14] \u001b[39m\u001b[92m+ AbstractTrees v0.4.4\u001b[39m\n",
      " \u001b[90m [6e4b80f9] \u001b[39m\u001b[92m+ BenchmarkTools v1.3.2\u001b[39m\n",
      " \u001b[90m [d360d2e6] \u001b[39m\u001b[92m+ ChainRulesCore v1.15.7\u001b[39m\n",
      " \u001b[90m [9e997f8a] \u001b[39m\u001b[92m+ ChangesOfVariables v0.1.6\u001b[39m\n",
      " \u001b[90m [523fee87] \u001b[39m\u001b[92m+ CodecBzip2 v0.7.2\u001b[39m\n",
      " \u001b[90m [944b1d66] \u001b[39m\u001b[92m+ CodecZlib v0.7.1\u001b[39m\n",
      " \u001b[90m [bbf7d656] \u001b[39m\u001b[92m+ CommonSubexpressions v0.3.0\u001b[39m\n",
      " \u001b[90m [34da2185] \u001b[39m\u001b[92m+ Compat v4.6.1\u001b[39m\n",
      " \u001b[90m [f65535da] \u001b[39m\u001b[92m+ Convex v0.15.3\u001b[39m\n",
      " \u001b[90m [864edb3b] \u001b[39m\u001b[92m+ DataStructures v0.18.13\u001b[39m\n",
      " \u001b[90m [163ba53b] \u001b[39m\u001b[92m+ DiffResults v1.1.0\u001b[39m\n",
      " \u001b[90m [b552c78f] \u001b[39m\u001b[92m+ DiffRules v1.13.0\u001b[39m\n",
      " \u001b[90m [ffbed154] \u001b[39m\u001b[92m+ DocStringExtensions v0.9.3\u001b[39m\n",
      " \u001b[90m [f6369f11] \u001b[39m\u001b[92m+ ForwardDiff v0.10.35\u001b[39m\n",
      " \u001b[90m [3587e190] \u001b[39m\u001b[92m+ InverseFunctions v0.1.8\u001b[39m\n",
      " \u001b[90m [92d709cd] \u001b[39m\u001b[92m+ IrrationalConstants v0.2.2\u001b[39m\n",
      " \u001b[90m [40e66cde] \u001b[39m\u001b[92m+ LDLFactorizations v0.10.0\u001b[39m\n",
      " \u001b[90m [2ab3a3ac] \u001b[39m\u001b[92m+ LogExpFunctions v0.3.23\u001b[39m\n",
      " \u001b[90m [1914dd2f] \u001b[39m\u001b[92m+ MacroTools v0.5.10\u001b[39m\n",
      " \u001b[90m [b8f27783] \u001b[39m\u001b[92m+ MathOptInterface v1.13.1\u001b[39m\n",
      " \u001b[90m [d8a4904e] \u001b[39m\u001b[92m+ MutableArithmetics v1.2.3\u001b[39m\n",
      " \u001b[90m [77ba4419] \u001b[39m\u001b[92m+ NaNMath v1.0.2\u001b[39m\n",
      " \u001b[90m [bac558e1] \u001b[39m\u001b[92m+ OrderedCollections v1.4.1\u001b[39m\n",
      " \u001b[90m [276daf66] \u001b[39m\u001b[92m+ SpecialFunctions v2.2.0\u001b[39m\n",
      " \u001b[90m [90137ffa] \u001b[39m\u001b[92m+ StaticArrays v1.5.17\u001b[39m\n",
      " \u001b[90m [1e83bf80] \u001b[39m\u001b[92m+ StaticArraysCore v1.4.0\u001b[39m\n",
      " \u001b[90m [3bb67fe8] \u001b[39m\u001b[92m+ TranscodingStreams v0.9.11\u001b[39m\n",
      " \u001b[90m [6e34b625] \u001b[39m\u001b[92m+ Bzip2_jll v1.0.8+0\u001b[39m\n",
      " \u001b[90m [efe28fd5] \u001b[39m\u001b[92m+ OpenSpecFun_jll v0.5.5+0\u001b[39m\n",
      " \u001b[90m [37e2e46d] \u001b[39m\u001b[92m+ LinearAlgebra\u001b[39m\n",
      " \u001b[90m [9abbd945] \u001b[39m\u001b[92m+ Profile\u001b[39m\n",
      " \u001b[90m [2f01184e] \u001b[39m\u001b[92m+ SparseArrays\u001b[39m\n",
      " \u001b[90m [10745b16] \u001b[39m\u001b[92m+ Statistics\u001b[39m\n",
      " \u001b[90m [e66e0078] \u001b[39m\u001b[92m+ CompilerSupportLibraries_jll v1.0.1+0\u001b[39m\n",
      " \u001b[90m [4536629a] \u001b[39m\u001b[92m+ OpenBLAS_jll v0.3.20+0\u001b[39m\n",
      " \u001b[90m [05823500] \u001b[39m\u001b[92m+ OpenLibm_jll v0.8.1+0\u001b[39m\n",
      " \u001b[90m [8e850b90] \u001b[39m\u001b[92m+ libblastrampoline_jll v5.1.1+0\u001b[39m\n",
      "\u001b[32m\u001b[1mPrecompiling\u001b[22m\u001b[39m project...\n",
      "\u001b[32m  ✓ \u001b[39m\u001b[90mOpenLibm_jll\u001b[39m\n",
      "\u001b[32m  ✓ \u001b[39m\u001b[90mAMD\u001b[39m\n",
      "\u001b[32m  ✓ \u001b[39m\u001b[90mOrderedCollections\u001b[39m\n",
      "\u001b[32m  ✓ \u001b[39m\u001b[90mCompat\u001b[39m\n",
      "\u001b[32m  ✓ \u001b[39m\u001b[90mCompilerSupportLibraries_jll\u001b[39m\n",
      "\u001b[32m  ✓ \u001b[39m\u001b[90mInverseFunctions\u001b[39m\n",
      "\u001b[32m  ✓ \u001b[39m\u001b[90mDocStringExtensions\u001b[39m\n",
      "\u001b[32m  ✓ \u001b[39m\u001b[90mAbstractTrees\u001b[39m\n",
      "\u001b[32m  ✓ \u001b[39m\u001b[90mIrrationalConstants\u001b[39m\n",
      "\u001b[32m  ✓ \u001b[39m\u001b[90mStaticArraysCore\u001b[39m\n",
      "\u001b[32m  ✓ \u001b[39m\u001b[90mTranscodingStreams\u001b[39m\n",
      "\u001b[32m  ✓ \u001b[39m\u001b[90mBzip2_jll\u001b[39m\n",
      "\u001b[32m  ✓ \u001b[39m\u001b[90mNaNMath\u001b[39m\n",
      "\u001b[32m  ✓ \u001b[39m\u001b[90mLDLFactorizations\u001b[39m\n",
      "\u001b[32m  ✓ \u001b[39m\u001b[90mBenchmarkTools\u001b[39m\n",
      "\u001b[32m  ✓ \u001b[39m\u001b[90mMacroTools\u001b[39m\n",
      "\u001b[32m  ✓ \u001b[39m\u001b[90mOpenBLAS_jll\u001b[39m\n",
      "\u001b[32m  ✓ \u001b[39m\u001b[90mOpenSpecFun_jll\u001b[39m\n",
      "\u001b[32m  ✓ \u001b[39m\u001b[90mChainRulesCore\u001b[39m\n",
      "\u001b[32m  ✓ \u001b[39m\u001b[90mDiffResults\u001b[39m\n",
      "\u001b[32m  ✓ \u001b[39m\u001b[90mCodecZlib\u001b[39m\n",
      "\u001b[32m  ✓ \u001b[39m\u001b[90mDataStructures\u001b[39m\n",
      "\u001b[32m  ✓ \u001b[39m\u001b[90mlibblastrampoline_jll\u001b[39m\n",
      "\u001b[32m  ✓ \u001b[39m\u001b[90mCodecBzip2\u001b[39m\n",
      "\u001b[32m  ✓ \u001b[39m\u001b[90mMutableArithmetics\u001b[39m\n",
      "\u001b[32m  ✓ \u001b[39m\u001b[90mCommonSubexpressions\u001b[39m\n",
      "\u001b[32m  ✓ \u001b[39m\u001b[90mChangesOfVariables\u001b[39m\n",
      "\u001b[32m  ✓ \u001b[39m\u001b[90mLogExpFunctions\u001b[39m\n",
      "\u001b[32m  ✓ \u001b[39m\u001b[90mStaticArrays\u001b[39m\n",
      "\u001b[32m  ✓ \u001b[39m\u001b[90mSpecialFunctions\u001b[39m\n",
      "\u001b[32m  ✓ \u001b[39m\u001b[90mDiffRules\u001b[39m\n",
      "\u001b[32m  ✓ \u001b[39m\u001b[90mForwardDiff\u001b[39m\n",
      "\u001b[32m  ✓ \u001b[39m\u001b[90mMathOptInterface\u001b[39m\n",
      "\u001b[32m  ✓ \u001b[39mConvex\n",
      "  34 dependencies successfully precompiled in 87 seconds. 16 already precompiled.\n"
     ]
    }
   ],
   "source": [
    "import Pkg; Pkg.add(\"Convex\")"
   ]
  },
  {
   "cell_type": "code",
   "execution_count": 5,
   "id": "48500912",
   "metadata": {
    "scrolled": true
   },
   "outputs": [
    {
     "name": "stderr",
     "output_type": "stream",
     "text": [
      "\u001b[32m\u001b[1m   Resolving\u001b[22m\u001b[39m package versions...\n",
      "\u001b[32m\u001b[1m   Installed\u001b[22m\u001b[39m SCS_jll ───────── v3.2.1+0\n",
      "\u001b[32m\u001b[1m   Installed\u001b[22m\u001b[39m IntelOpenMP_jll ─ v2018.0.3+2\n",
      "\u001b[32m\u001b[1m   Installed\u001b[22m\u001b[39m MKL_jll ───────── v2022.2.0+0\n",
      "\u001b[32m\u001b[1m   Installed\u001b[22m\u001b[39m SCS_MKL_jll ───── v3.2.2+0\n",
      "\u001b[32m\u001b[1m   Installed\u001b[22m\u001b[39m SCS_GPU_jll ───── v3.2.1+0\n",
      "\u001b[32m\u001b[1m   Installed\u001b[22m\u001b[39m OpenBLAS32_jll ── v0.3.17+0\n",
      "\u001b[32m\u001b[1m   Installed\u001b[22m\u001b[39m Requires ──────── v1.3.0\n",
      "\u001b[32m\u001b[1m   Installed\u001b[22m\u001b[39m SCS ───────────── v1.1.3\n",
      "\u001b[32m\u001b[1m    Updating\u001b[22m\u001b[39m `C:\\Users\\jsanghoo\\.julia\\environments\\v1.8\\Project.toml`\n",
      " \u001b[90m [c946c3f1] \u001b[39m\u001b[92m+ SCS v1.1.3\u001b[39m\n",
      "\u001b[32m\u001b[1m    Updating\u001b[22m\u001b[39m `C:\\Users\\jsanghoo\\.julia\\environments\\v1.8\\Manifest.toml`\n",
      " \u001b[90m [ae029012] \u001b[39m\u001b[92m+ Requires v1.3.0\u001b[39m\n",
      " \u001b[90m [c946c3f1] \u001b[39m\u001b[92m+ SCS v1.1.3\u001b[39m\n",
      " \u001b[90m [1d5cc7b8] \u001b[39m\u001b[92m+ IntelOpenMP_jll v2018.0.3+2\u001b[39m\n",
      " \u001b[90m [856f044c] \u001b[39m\u001b[92m+ MKL_jll v2022.2.0+0\u001b[39m\n",
      "\u001b[33m⌅\u001b[39m\u001b[90m [656ef2d0] \u001b[39m\u001b[92m+ OpenBLAS32_jll v0.3.17+0\u001b[39m\n",
      " \u001b[90m [af6e375f] \u001b[39m\u001b[92m+ SCS_GPU_jll v3.2.1+0\u001b[39m\n",
      " \u001b[90m [3f2553a9] \u001b[39m\u001b[92m+ SCS_MKL_jll v3.2.2+0\u001b[39m\n",
      " \u001b[90m [f4f2fc5b] \u001b[39m\u001b[92m+ SCS_jll v3.2.1+0\u001b[39m\n",
      " \u001b[90m [4af54fe1] \u001b[39m\u001b[92m+ LazyArtifacts\u001b[39m\n",
      "\u001b[36m\u001b[1m        Info\u001b[22m\u001b[39m Packages marked with \u001b[33m⌅\u001b[39m have new versions available but compatibility constraints restrict them from upgrading. To see why use `status --outdated -m`\n",
      "\u001b[32m\u001b[1mPrecompiling\u001b[22m\u001b[39m project...\n",
      "\u001b[32m  ✓ \u001b[39m\u001b[90mRequires\u001b[39m\n",
      "\u001b[32m  ✓ \u001b[39m\u001b[90mIntelOpenMP_jll\u001b[39m\n",
      "\u001b[32m  ✓ \u001b[39m\u001b[90mOpenBLAS32_jll\u001b[39m\n",
      "\u001b[32m  ✓ \u001b[39m\u001b[90mMKL_jll\u001b[39m\n",
      "\u001b[32m  ✓ \u001b[39m\u001b[90mSCS_GPU_jll\u001b[39m\n",
      "\u001b[32m  ✓ \u001b[39m\u001b[90mSCS_jll\u001b[39m\n",
      "\u001b[32m  ✓ \u001b[39m\u001b[90mSCS_MKL_jll\u001b[39m\n",
      "\u001b[32m  ✓ \u001b[39mSCS\n",
      "  8 dependencies successfully precompiled in 11 seconds. 50 already precompiled.\n"
     ]
    }
   ],
   "source": [
    "import Pkg; Pkg.add(\"SCS\")"
   ]
  },
  {
   "cell_type": "code",
   "execution_count": 6,
   "id": "d4cf118d",
   "metadata": {
    "scrolled": true
   },
   "outputs": [
    {
     "name": "stderr",
     "output_type": "stream",
     "text": [
      "\u001b[32m\u001b[1m   Resolving\u001b[22m\u001b[39m package versions...\n",
      "\u001b[32m\u001b[1m    Updating\u001b[22m\u001b[39m `C:\\Users\\jsanghoo\\.julia\\environments\\v1.8\\Project.toml`\n",
      " \u001b[90m [37e2e46d] \u001b[39m\u001b[92m+ LinearAlgebra\u001b[39m\n",
      "\u001b[32m\u001b[1m  No Changes\u001b[22m\u001b[39m to `C:\\Users\\jsanghoo\\.julia\\environments\\v1.8\\Manifest.toml`\n"
     ]
    }
   ],
   "source": [
    "import Pkg; Pkg.add(\"LinearAlgebra\")"
   ]
  },
  {
   "cell_type": "code",
   "execution_count": 25,
   "id": "29bc1186",
   "metadata": {},
   "outputs": [],
   "source": [
    "using Convex, SCS\n",
    "using LinearAlgebra"
   ]
  },
  {
   "cell_type": "code",
   "execution_count": 13,
   "id": "5f4249eb",
   "metadata": {},
   "outputs": [
    {
     "name": "stdout",
     "output_type": "stream",
     "text": [
      "------------------------------------------------------------------\n",
      "\t       SCS v3.2.1 - Splitting Conic Solver\n",
      "\t(c) Brendan O'Donoghue, Stanford University, 2012\n",
      "------------------------------------------------------------------\n",
      "problem:  variables n: 26, constraints m: 202\n",
      "cones: \t  z: primal zero / dual free vars: 77\n",
      "\t  l: linear vars: 20\n",
      "\t  s: psd vars: 105, ssize: 5\n",
      "settings: eps_abs: 1.0e-004, eps_rel: 1.0e-004, eps_infeas: 1.0e-007\n",
      "\t  alpha: 1.50, scale: 1.00e-001, adaptive_scale: 1\n",
      "\t  max_iters: 100000, normalize: 1, rho_x: 1.00e-006\n",
      "\t  acceleration_lookback: 10, acceleration_interval: 10\n",
      "lin-sys:  sparse-direct-amd-qdldl\n",
      "\t  nnz(A): 1551, nnz(P): 0\n",
      "------------------------------------------------------------------\n",
      " iter | pri res | dua res |   gap   |   obj   |  scale  | time (s)\n",
      "------------------------------------------------------------------\n",
      "     0|5.29e+000 1.00e+000 1.17e+000 -3.03e-001 1.00e-001 8.43e-004 \n",
      "   100|4.93e-005 6.96e-006 1.47e-005 1.69e-001 1.00e-001 2.00e-002 \n",
      "------------------------------------------------------------------\n",
      "status:  solved\n",
      "timings: total: 2.00e-002s = setup: 5.76e-004s + solve: 1.94e-002s\n",
      "\t lin-sys: 7.89e-004s, cones: 1.83e-002s, accel: 2.25e-005s\n",
      "------------------------------------------------------------------\n",
      "objective = 0.168689\n",
      "------------------------------------------------------------------\n"
     ]
    }
   ],
   "source": [
    "#obj 함수 정의와 constraints를 채우세요.\n",
    "λ = Variable(p)  \n",
    "lambda = Diagonal(λ) \n",
    "obj = 0\n",
    "for k in 1:n #바깥쪽 k에 대한 시그마의 표현\n",
    "    ek = zeros(n,1) #kth unit vector를 표현하는 것입니다.\n",
    "    ek[k] = 1 \n",
    "    pk = V*lambda*V'\n",
    "    obj += (1/m)*matrixfrac(ek,pk) \n",
    "end \n",
    "\n",
    "problem = minimize(obj)\n",
    "\n",
    "constraint1 = tr(lambda) == 1\n",
    "constraint2 = λ >= 0\n",
    "problem.constraints += constraint1\n",
    "problem.constraints += constraint2\n",
    "\n",
    "solve!(problem, SCS.Optimizer)\n",
    "\n",
    "sol_lambda = evaluate(λ);"
   ]
  },
  {
   "cell_type": "code",
   "execution_count": 14,
   "id": "81026a0d",
   "metadata": {},
   "outputs": [
    {
     "data": {
      "text/plain": [
       "20-element Vector{Float64}:\n",
       "  4.0\n",
       " -0.0\n",
       " -0.0\n",
       "  5.0\n",
       " -0.0\n",
       " -0.0\n",
       " -0.0\n",
       " -0.0\n",
       "  3.0\n",
       " -0.0\n",
       " -0.0\n",
       " -0.0\n",
       "  6.0\n",
       " -0.0\n",
       " -0.0\n",
       "  4.0\n",
       "  1.0\n",
       " -0.0\n",
       "  4.0\n",
       "  3.0"
      ]
     },
     "execution_count": 14,
     "metadata": {},
     "output_type": "execute_result"
    }
   ],
   "source": [
    "m_hat = round.(m*sol_lambda)"
   ]
  },
  {
   "cell_type": "code",
   "execution_count": 18,
   "id": "f36e7753",
   "metadata": {},
   "outputs": [
    {
     "data": {
      "text/plain": [
       "20×20 Diagonal{Float64, Vector{Float64}}:\n",
       " 4.0    ⋅     ⋅    ⋅     ⋅     ⋅     ⋅   …    ⋅    ⋅    ⋅     ⋅    ⋅    ⋅ \n",
       "  ⋅   -0.0    ⋅    ⋅     ⋅     ⋅     ⋅        ⋅    ⋅    ⋅     ⋅    ⋅    ⋅ \n",
       "  ⋅     ⋅   -0.0   ⋅     ⋅     ⋅     ⋅        ⋅    ⋅    ⋅     ⋅    ⋅    ⋅ \n",
       "  ⋅     ⋅     ⋅   5.0    ⋅     ⋅     ⋅        ⋅    ⋅    ⋅     ⋅    ⋅    ⋅ \n",
       "  ⋅     ⋅     ⋅    ⋅   -0.0    ⋅     ⋅        ⋅    ⋅    ⋅     ⋅    ⋅    ⋅ \n",
       "  ⋅     ⋅     ⋅    ⋅     ⋅   -0.0    ⋅   …    ⋅    ⋅    ⋅     ⋅    ⋅    ⋅ \n",
       "  ⋅     ⋅     ⋅    ⋅     ⋅     ⋅   -0.0       ⋅    ⋅    ⋅     ⋅    ⋅    ⋅ \n",
       "  ⋅     ⋅     ⋅    ⋅     ⋅     ⋅     ⋅        ⋅    ⋅    ⋅     ⋅    ⋅    ⋅ \n",
       "  ⋅     ⋅     ⋅    ⋅     ⋅     ⋅     ⋅        ⋅    ⋅    ⋅     ⋅    ⋅    ⋅ \n",
       "  ⋅     ⋅     ⋅    ⋅     ⋅     ⋅     ⋅        ⋅    ⋅    ⋅     ⋅    ⋅    ⋅ \n",
       "  ⋅     ⋅     ⋅    ⋅     ⋅     ⋅     ⋅   …    ⋅    ⋅    ⋅     ⋅    ⋅    ⋅ \n",
       "  ⋅     ⋅     ⋅    ⋅     ⋅     ⋅     ⋅        ⋅    ⋅    ⋅     ⋅    ⋅    ⋅ \n",
       "  ⋅     ⋅     ⋅    ⋅     ⋅     ⋅     ⋅        ⋅    ⋅    ⋅     ⋅    ⋅    ⋅ \n",
       "  ⋅     ⋅     ⋅    ⋅     ⋅     ⋅     ⋅        ⋅    ⋅    ⋅     ⋅    ⋅    ⋅ \n",
       "  ⋅     ⋅     ⋅    ⋅     ⋅     ⋅     ⋅      -0.0   ⋅    ⋅     ⋅    ⋅    ⋅ \n",
       "  ⋅     ⋅     ⋅    ⋅     ⋅     ⋅     ⋅   …    ⋅   4.0   ⋅     ⋅    ⋅    ⋅ \n",
       "  ⋅     ⋅     ⋅    ⋅     ⋅     ⋅     ⋅        ⋅    ⋅   1.0    ⋅    ⋅    ⋅ \n",
       "  ⋅     ⋅     ⋅    ⋅     ⋅     ⋅     ⋅        ⋅    ⋅    ⋅   -0.0   ⋅    ⋅ \n",
       "  ⋅     ⋅     ⋅    ⋅     ⋅     ⋅     ⋅        ⋅    ⋅    ⋅     ⋅   4.0   ⋅ \n",
       "  ⋅     ⋅     ⋅    ⋅     ⋅     ⋅     ⋅        ⋅    ⋅    ⋅     ⋅    ⋅   3.0"
      ]
     },
     "execution_count": 18,
     "metadata": {},
     "output_type": "execute_result"
    }
   ],
   "source": [
    "Diagonal(m_hat)"
   ]
  },
  {
   "cell_type": "code",
   "execution_count": 27,
   "id": "a5c8f422",
   "metadata": {},
   "outputs": [
    {
     "data": {
      "text/plain": [
       "0.1690410508298605"
      ]
     },
     "execution_count": 27,
     "metadata": {},
     "output_type": "execute_result"
    }
   ],
   "source": [
    "mhat = Diagonal(m_hat)\n",
    "obj_sub=0\n",
    "obj_sub = tr(inv(V*mhat*Matrix(V')))\n",
    "\n",
    "#problem2 = minimize(obj_sub)\n",
    "\n",
    "#constraint1 = tr(mhat) == m\n",
    "#problem2.constraints += constraint1\n",
    "\n",
    "#solve!(problem2, SCS.Optimizer)\n",
    "\n",
    "subopt = obj_sub"
   ]
  },
  {
   "cell_type": "code",
   "execution_count": 28,
   "id": "f28bb9be",
   "metadata": {},
   "outputs": [
    {
     "data": {
      "text/plain": [
       "0.0003489558252109948"
      ]
     },
     "execution_count": 28,
     "metadata": {},
     "output_type": "execute_result"
    }
   ],
   "source": [
    "subopt - evaluate(obj)"
   ]
  },
  {
   "cell_type": "code",
   "execution_count": null,
   "id": "52b6d2d3",
   "metadata": {},
   "outputs": [],
   "source": []
  }
 ],
 "metadata": {
  "kernelspec": {
   "display_name": "Julia 1.8.5",
   "language": "julia",
   "name": "julia-1.8"
  },
  "language_info": {
   "file_extension": ".jl",
   "mimetype": "application/julia",
   "name": "julia",
   "version": "1.8.5"
  }
 },
 "nbformat": 4,
 "nbformat_minor": 5
}
