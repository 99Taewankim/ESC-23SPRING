{
 "cells": [
  {
   "cell_type": "markdown",
   "id": "92b27a46",
   "metadata": {},
   "source": [
    "## Realxed A-optimal experiment design"
   ]
  },
  {
   "cell_type": "markdown",
   "id": "ff473c25",
   "metadata": {},
   "source": [
    "아래와 같이 생성된 데이터가 있습니다."
   ]
  },
  {
   "cell_type": "code",
   "execution_count": null,
   "id": "14ae9b65",
   "metadata": {},
   "outputs": [],
   "source": [
    "using Random\n",
    "Random.seed!(2023)\n",
    "n = 5; # 추정해야 하는 parameter의 개수\n",
    "p = 20; # 가능한 실험의 가짓수\n",
    "m = 30; # 실험 횟수\n",
    "V = randn(n,p); #V의 각 열은 v1,...,vp 벡터를 나타냅니다."
   ]
  },
  {
   "cell_type": "markdown",
   "id": "7a4be439",
   "metadata": {},
   "source": [
    "Q1. 다음과 같이 표현된 $\\lambda \\in \\mathbb{R}^p$에 대한 optimization 문제를 해결하세요.\n",
    "\n",
    "$$\n",
    "\\begin{array}{ll}\n",
    "    \\text{minimize}   & (1/m)\\mathbf{tr}\\left(\\sum_{i=1}^p \\lambda_i\\nu_i\\nu_i^T\\right)^{-1} \\\\\n",
    "    \\text{subject to} & \\mathbf{1}^T\\lambda =1,\\,\\,\\lambda\\succeq 0\n",
    "\\end{array}\n",
    "$$\n",
    "\n",
    "\n",
    "Q2. 위 문제의 solution $\\lambda^*$는 $m_1,\\,m_2,\\,...\\,,m_p$에 대한 아래 A-optimal design problem의 solution의 lower bound가 됩니다. 그 이유는 무엇일까요? (세션의 relaxed experiment design 부분에서 나왔습니다!)\n",
    "\n",
    "$$\n",
    "\\begin{array}{ll}\n",
    "    \\text{minimize}   & \\mathbf{tr}\\left(\\sum_{i=1}^p m_i\\nu_i\\nu_i^T\\right)^{-1} \\\\\n",
    "    \\text{subject to} & m_1 + m_2 +\\,...\\,+ m_p = m ,\\,\\, m \\in \\left\\{0,1,\\,...\\,,m\\right\\}\n",
    "\\end{array}\n",
    "$$\n",
    "\n",
    "Q3. solution을 구한 후 $\\hat{m}_i = \\mathbf{round}(m\\lambda_i^*)$를 구하세요. 이 정수 $\\hat{m}_i$들에 대한 sub-optimal objective value를 계산하고, 이 upper bound와 lower bound의 차이를 구하세요. "
   ]
  },
  {
   "cell_type": "markdown",
   "id": "86253cc4",
   "metadata": {},
   "source": [
    "#유의사항: Convex 패키지는 trace로 구성된 목적함수를 인식하지 못하므로, matrix fractional function (교재 76p example 3.4 참조)을 이용하여 formulation해줘야 합니다. kth unit vector $e_k$에 대해 reformulation하면 위의 목적함수는 다음과 같이 바뀝니다. 사실 trace를 다른 형태로 표현한 것에 불과하다는 점이 보입니다.\n",
    "\n",
    "$$ (1/m)\\sum_{k=1}^n e_k^T \\left(\\sum_{i=1}^p \\lambda_i\\nu_i\\nu_i^T\\right)^{-1}e_k $$\n",
    "\n",
    "#hint: 벡터 x, 행렬 P에 대해 함수 matrixfrac(x, P)는 $x^TP^{-1}x$를 리턴합니다."
   ]
  },
  {
   "cell_type": "code",
   "execution_count": null,
   "id": "29bc1186",
   "metadata": {},
   "outputs": [],
   "source": [
    "using Convex, SCS\n",
    "using LinearAlgebra"
   ]
  },
  {
   "cell_type": "code",
   "execution_count": null,
   "id": "5f4249eb",
   "metadata": {},
   "outputs": [],
   "source": [
    "#obj 함수 정의와 constraints를 채우세요.\n",
    "λ = Variable(p)  \n",
    "obj = 0\n",
    "for k in 1:n #바깥쪽 k에 대한 시그마의 표현\n",
    "    ek = zeros(n,1) #kth unit vector를 표현하는 것입니다.\n",
    "    ek[k] = 1 \n",
    "    obj += \n",
    "end \n",
    "\n",
    "problem = minimize(obj)\n",
    "\n",
    "problem.constraints += \n",
    "problem.constraints += \n",
    "\n",
    "solve!(problem, SCS.Optimizer)\n",
    "\n",
    "sol_lambda = evaluate(λ);"
   ]
  },
  {
   "cell_type": "code",
   "execution_count": null,
   "id": "81026a0d",
   "metadata": {},
   "outputs": [],
   "source": [
    "m_hat = "
   ]
  },
  {
   "cell_type": "code",
   "execution_count": null,
   "id": "a5c8f422",
   "metadata": {},
   "outputs": [],
   "source": [
    "subopt = "
   ]
  },
  {
   "cell_type": "code",
   "execution_count": null,
   "id": "f28bb9be",
   "metadata": {},
   "outputs": [],
   "source": [
    "subopt - evaluate(obj)"
   ]
  }
 ],
 "metadata": {
  "kernelspec": {
   "display_name": "Julia 1.8.5",
   "language": "julia",
   "name": "julia-1.8"
  },
  "language_info": {
   "file_extension": ".jl",
   "mimetype": "application/julia",
   "name": "julia",
   "version": "1.8.5"
  }
 },
 "nbformat": 4,
 "nbformat_minor": 5
}
