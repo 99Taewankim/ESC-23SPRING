{
 "cells": [
  {
   "cell_type": "markdown",
   "id": "d0b39f1e",
   "metadata": {},
   "source": [
    "## Realxed A-optimal experiment design"
   ]
  },
  {
   "cell_type": "markdown",
   "id": "2582f3e2",
   "metadata": {},
   "source": [
    "아래와 같이 생성된 데이터가 있습니다."
   ]
  },
  {
   "cell_type": "code",
   "execution_count": 5,
   "id": "14fe7461",
   "metadata": {},
   "outputs": [],
   "source": [
    "using Random\n",
    "Random.seed!(2023)\n",
    "n = 5; # 추정해야 하는 parameter의 개수\n",
    "p = 20; # 가능한 실험의 가짓수\n",
    "m = 30; # 실험 횟수\n",
    "V = randn(n,p); #V의 각 열은 v1,...,vp 벡터를 나타냅니다."
   ]
  },
  {
   "cell_type": "markdown",
   "id": "b71f2a2b",
   "metadata": {},
   "source": [
    "Q1. 다음과 같이 표현된 $\\lambda \\in \\mathbb{R}^p$에 대한 optimization 문제를 해결하세요.\n",
    "\n",
    "$$\n",
    "\\begin{array}{ll}\n",
    "    \\text{minimize}   & (1/m)\\mathbf{tr}\\left(\\sum_{i=1}^p \\lambda_i\\nu_i\\nu_i^T\\right)^{-1} \\\\\n",
    "    \\text{subject to} & \\mathbf{1}^T\\lambda =1,\\,\\,\\lambda\\succeq 0\n",
    "\\end{array}\n",
    "$$\n",
    "\n",
    "\n",
    "Q2. 위 문제의 solution $\\lambda^*$는 $m_1,\\,m_2,\\,...\\,,m_p$에 대한 아래 A-optimal design problem의 solution의 lower bound가 됩니다. 그 이유는 무엇일까요? (세션의 relaxed experiment design 부분에서 나왔습니다!)\n",
    "\n",
    "$$\n",
    "\\begin{array}{ll}\n",
    "    \\text{minimize}   & \\mathbf{tr}\\left(\\sum_{i=1}^p m_i\\nu_i\\nu_i^T\\right)^{-1} \\\\\n",
    "    \\text{subject to} & m_1 + m_2 +\\,...\\,+ m_p = m ,\\,\\, m \\in \\left\\{0,1,\\,...\\,,m\\right\\}\n",
    "\\end{array}\n",
    "$$\n",
    "\n",
    "Q3. solution을 구한 후 $\\hat{m}_i = \\mathbf{round}(m\\lambda_i^*)$를 구하세요. 이 정수 $\\hat{m}_i$들에 대한 sub-optimal objective value를 계산하고, 이 upper bound와 lower bound의 차이를 구하세요. "
   ]
  },
  {
   "cell_type": "markdown",
   "id": "9372b802",
   "metadata": {},
   "source": [
    "#유의사항: Convex 패키지는 trace로 구성된 목적함수를 인식하지 못하므로, matrix fractional function (교재 76p example 3.4 참조)을 이용하여 formulation해줘야 합니다. kth unit vector $e_k$에 대해 reformulation하면 위의 목적함수는 다음과 같이 바뀝니다. 사실 trace를 다른 형태로 표현한 것에 불과하다는 점이 보입니다.\n",
    "\n",
    "$$ (1/m)\\sum_{i=1}^n e_k^T \\left(\\sum_{i=1}^p \\lambda_i\\nu_i\\nu_i^T\\right)^{-1}e_k $$\n",
    "\n",
    "#hint: 벡터 x, 행렬 P에 대해 함수 matrixfrac(x, P)는 $x^TP^{-1}x$를 리턴합니다."
   ]
  },
  {
   "cell_type": "code",
   "execution_count": 6,
   "id": "923aec19",
   "metadata": {},
   "outputs": [],
   "source": [
    "using Convex, SCS\n",
    "using LinearAlgebra"
   ]
  },
  {
   "cell_type": "code",
   "execution_count": 7,
   "id": "a1624d6f",
   "metadata": {},
   "outputs": [
    {
     "name": "stdout",
     "output_type": "stream",
     "text": [
      "------------------------------------------------------------------\n",
      "\t       SCS v3.2.1 - Splitting Conic Solver\n",
      "\t(c) Brendan O'Donoghue, Stanford University, 2012\n",
      "------------------------------------------------------------------\n",
      "problem:  variables n: 26, constraints m: 202\n",
      "cones: \t  z: primal zero / dual free vars: 77\n",
      "\t  l: linear vars: 20\n",
      "\t  s: psd vars: 105, ssize: 5\n",
      "settings: eps_abs: 1.0e-04, eps_rel: 1.0e-04, eps_infeas: 1.0e-07\n",
      "\t  alpha: 1.50, scale: 1.00e-01, adaptive_scale: 1\n",
      "\t  max_iters: 100000, normalize: 1, rho_x: 1.00e-06\n",
      "\t  acceleration_lookback: 10, acceleration_interval: 10\n",
      "lin-sys:  sparse-direct-amd-qdldl\n",
      "\t  nnz(A): 1551, nnz(P): 0\n",
      "------------------------------------------------------------------\n",
      " iter | pri res | dua res |   gap   |   obj   |  scale  | time (s)\n",
      "------------------------------------------------------------------\n",
      "     0| 5.29e+00  1.00e+00  1.17e+00 -3.03e-01  1.00e-01  7.56e-04 \n",
      "   100| 4.93e-05  6.96e-06  1.47e-05  1.69e-01  1.00e-01  5.53e-03 \n",
      "------------------------------------------------------------------\n",
      "status:  solved\n",
      "timings: total: 5.53e-03s = setup: 5.90e-04s + solve: 4.94e-03s\n",
      "\t lin-sys: 6.21e-04s, cones: 4.11e-03s, accel: 1.16e-05s\n",
      "------------------------------------------------------------------\n",
      "objective = 0.168689\n",
      "------------------------------------------------------------------\n"
     ]
    }
   ],
   "source": [
    "#obj 함수 정의와 constraints를 채우세요.\n",
    "λ = Variable(p)  \n",
    "obj = 0\n",
    "for k in 1:n\n",
    "    ek = zeros(n,1) #kth unit vector를 표현하는 것입니다.\n",
    "    ek[k] = 1 \n",
    "    obj += (1/m) * matrixfrac(ek, V*Diagonal(λ)*V')\n",
    "end \n",
    "\n",
    "problem = minimize(obj)\n",
    "\n",
    "problem.constraints += sum(λ) == 1\n",
    "problem.constraints += λ >= 0\n",
    "\n",
    "solve!(problem, SCS.Optimizer)\n",
    "\n",
    "sol_lambda = evaluate(λ);"
   ]
  },
  {
   "cell_type": "code",
   "execution_count": 8,
   "id": "6f1e5b41",
   "metadata": {},
   "outputs": [
    {
     "data": {
      "text/plain": [
       "20-element Vector{Float64}:\n",
       "  4.0\n",
       " -0.0\n",
       " -0.0\n",
       "  5.0\n",
       " -0.0\n",
       " -0.0\n",
       " -0.0\n",
       " -0.0\n",
       "  3.0\n",
       " -0.0\n",
       " -0.0\n",
       " -0.0\n",
       "  6.0\n",
       " -0.0\n",
       " -0.0\n",
       "  4.0\n",
       "  1.0\n",
       " -0.0\n",
       "  4.0\n",
       "  3.0"
      ]
     },
     "execution_count": 8,
     "metadata": {},
     "output_type": "execute_result"
    }
   ],
   "source": [
    "m_hat = round.(m*sol_lambda)"
   ]
  },
  {
   "cell_type": "code",
   "execution_count": 10,
   "id": "af846b7e",
   "metadata": {},
   "outputs": [
    {
     "data": {
      "text/plain": [
       "0.1690410508298605"
      ]
     },
     "execution_count": 10,
     "metadata": {},
     "output_type": "execute_result"
    }
   ],
   "source": [
    "subopt = tr(inv(V * Diagonal(m_hat) * V'))"
   ]
  },
  {
   "cell_type": "code",
   "execution_count": 11,
   "id": "0da262bf",
   "metadata": {},
   "outputs": [
    {
     "data": {
      "text/plain": [
       "0.00034895582521088375"
      ]
     },
     "execution_count": 11,
     "metadata": {},
     "output_type": "execute_result"
    }
   ],
   "source": [
    "subopt - evaluate(obj)"
   ]
  }
 ],
 "metadata": {
  "kernelspec": {
   "display_name": "Julia 1.8.5",
   "language": "julia",
   "name": "julia-1.8"
  },
  "language_info": {
   "file_extension": ".jl",
   "mimetype": "application/julia",
   "name": "julia",
   "version": "1.8.5"
  }
 },
 "nbformat": 4,
 "nbformat_minor": 5
}
